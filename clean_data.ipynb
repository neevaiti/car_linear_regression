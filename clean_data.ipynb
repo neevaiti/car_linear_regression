{
 "cells": [
  {
   "attachments": {},
   "cell_type": "markdown",
   "metadata": {},
   "source": [
    "# Part I : Data conditioning"
   ]
  },
  {
   "cell_type": "code",
   "execution_count": 846,
   "metadata": {},
   "outputs": [],
   "source": [
    "import pandas as pd\n",
    "import seaborn as sns\n",
    "import numpy as np\n",
    "import matplotlib.pyplot as plt"
   ]
  },
  {
   "cell_type": "code",
   "execution_count": 847,
   "metadata": {},
   "outputs": [],
   "source": [
    "# Read in the data\n",
    "df = pd.read_csv('./src/car_dataset_origin.csv')"
   ]
  },
  {
   "cell_type": "code",
   "execution_count": 848,
   "metadata": {},
   "outputs": [
    {
     "data": {
      "text/html": [
       "<div>\n",
       "<style scoped>\n",
       "    .dataframe tbody tr th:only-of-type {\n",
       "        vertical-align: middle;\n",
       "    }\n",
       "\n",
       "    .dataframe tbody tr th {\n",
       "        vertical-align: top;\n",
       "    }\n",
       "\n",
       "    .dataframe thead th {\n",
       "        text-align: right;\n",
       "    }\n",
       "</style>\n",
       "<table border=\"1\" class=\"dataframe\">\n",
       "  <thead>\n",
       "    <tr style=\"text-align: right;\">\n",
       "      <th></th>\n",
       "      <th>car_ID</th>\n",
       "      <th>symboling</th>\n",
       "      <th>CarName</th>\n",
       "      <th>fueltype</th>\n",
       "      <th>aspiration</th>\n",
       "      <th>doornumber</th>\n",
       "      <th>carbody</th>\n",
       "      <th>drivewheel</th>\n",
       "      <th>enginelocation</th>\n",
       "      <th>wheelbase</th>\n",
       "      <th>...</th>\n",
       "      <th>enginesize</th>\n",
       "      <th>fuelsystem</th>\n",
       "      <th>boreratio</th>\n",
       "      <th>stroke</th>\n",
       "      <th>compressionratio</th>\n",
       "      <th>horsepower</th>\n",
       "      <th>peakrpm</th>\n",
       "      <th>citympg</th>\n",
       "      <th>highwaympg</th>\n",
       "      <th>price</th>\n",
       "    </tr>\n",
       "  </thead>\n",
       "  <tbody>\n",
       "    <tr>\n",
       "      <th>0</th>\n",
       "      <td>1</td>\n",
       "      <td>3</td>\n",
       "      <td>alfa-romero giulia</td>\n",
       "      <td>gas</td>\n",
       "      <td>std</td>\n",
       "      <td>two</td>\n",
       "      <td>convertible</td>\n",
       "      <td>rwd</td>\n",
       "      <td>front</td>\n",
       "      <td>88.6</td>\n",
       "      <td>...</td>\n",
       "      <td>130</td>\n",
       "      <td>mpfi</td>\n",
       "      <td>3.47</td>\n",
       "      <td>2.68</td>\n",
       "      <td>9.0</td>\n",
       "      <td>111</td>\n",
       "      <td>5000</td>\n",
       "      <td>21</td>\n",
       "      <td>27</td>\n",
       "      <td>13495.0</td>\n",
       "    </tr>\n",
       "    <tr>\n",
       "      <th>1</th>\n",
       "      <td>2</td>\n",
       "      <td>3</td>\n",
       "      <td>alfa-romero stelvio</td>\n",
       "      <td>gas</td>\n",
       "      <td>std</td>\n",
       "      <td>two</td>\n",
       "      <td>convertible</td>\n",
       "      <td>rwd</td>\n",
       "      <td>front</td>\n",
       "      <td>88.6</td>\n",
       "      <td>...</td>\n",
       "      <td>130</td>\n",
       "      <td>mpfi</td>\n",
       "      <td>3.47</td>\n",
       "      <td>2.68</td>\n",
       "      <td>9.0</td>\n",
       "      <td>111</td>\n",
       "      <td>5000</td>\n",
       "      <td>21</td>\n",
       "      <td>27</td>\n",
       "      <td>16500.0</td>\n",
       "    </tr>\n",
       "    <tr>\n",
       "      <th>2</th>\n",
       "      <td>3</td>\n",
       "      <td>1</td>\n",
       "      <td>alfa-romero Quadrifoglio</td>\n",
       "      <td>gas</td>\n",
       "      <td>std</td>\n",
       "      <td>two</td>\n",
       "      <td>hatchback</td>\n",
       "      <td>rwd</td>\n",
       "      <td>front</td>\n",
       "      <td>94.5</td>\n",
       "      <td>...</td>\n",
       "      <td>152</td>\n",
       "      <td>mpfi</td>\n",
       "      <td>2.68</td>\n",
       "      <td>3.47</td>\n",
       "      <td>9.0</td>\n",
       "      <td>154</td>\n",
       "      <td>5000</td>\n",
       "      <td>19</td>\n",
       "      <td>26</td>\n",
       "      <td>16500.0</td>\n",
       "    </tr>\n",
       "    <tr>\n",
       "      <th>3</th>\n",
       "      <td>4</td>\n",
       "      <td>2</td>\n",
       "      <td>audi 100 ls</td>\n",
       "      <td>gas</td>\n",
       "      <td>std</td>\n",
       "      <td>four</td>\n",
       "      <td>sedan</td>\n",
       "      <td>fwd</td>\n",
       "      <td>front</td>\n",
       "      <td>99.8</td>\n",
       "      <td>...</td>\n",
       "      <td>109</td>\n",
       "      <td>mpfi</td>\n",
       "      <td>3.19</td>\n",
       "      <td>3.40</td>\n",
       "      <td>10.0</td>\n",
       "      <td>102</td>\n",
       "      <td>5500</td>\n",
       "      <td>24</td>\n",
       "      <td>30</td>\n",
       "      <td>13950.0</td>\n",
       "    </tr>\n",
       "    <tr>\n",
       "      <th>4</th>\n",
       "      <td>5</td>\n",
       "      <td>2</td>\n",
       "      <td>audi 100ls</td>\n",
       "      <td>gas</td>\n",
       "      <td>std</td>\n",
       "      <td>four</td>\n",
       "      <td>sedan</td>\n",
       "      <td>4wd</td>\n",
       "      <td>front</td>\n",
       "      <td>99.4</td>\n",
       "      <td>...</td>\n",
       "      <td>136</td>\n",
       "      <td>mpfi</td>\n",
       "      <td>3.19</td>\n",
       "      <td>3.40</td>\n",
       "      <td>8.0</td>\n",
       "      <td>115</td>\n",
       "      <td>5500</td>\n",
       "      <td>18</td>\n",
       "      <td>22</td>\n",
       "      <td>17450.0</td>\n",
       "    </tr>\n",
       "  </tbody>\n",
       "</table>\n",
       "<p>5 rows × 26 columns</p>\n",
       "</div>"
      ],
      "text/plain": [
       "   car_ID  symboling                   CarName fueltype aspiration doornumber  \\\n",
       "0       1          3        alfa-romero giulia      gas        std        two   \n",
       "1       2          3       alfa-romero stelvio      gas        std        two   \n",
       "2       3          1  alfa-romero Quadrifoglio      gas        std        two   \n",
       "3       4          2               audi 100 ls      gas        std       four   \n",
       "4       5          2                audi 100ls      gas        std       four   \n",
       "\n",
       "       carbody drivewheel enginelocation  wheelbase  ...  enginesize  \\\n",
       "0  convertible        rwd          front       88.6  ...         130   \n",
       "1  convertible        rwd          front       88.6  ...         130   \n",
       "2    hatchback        rwd          front       94.5  ...         152   \n",
       "3        sedan        fwd          front       99.8  ...         109   \n",
       "4        sedan        4wd          front       99.4  ...         136   \n",
       "\n",
       "   fuelsystem  boreratio  stroke compressionratio horsepower  peakrpm citympg  \\\n",
       "0        mpfi       3.47    2.68              9.0        111     5000      21   \n",
       "1        mpfi       3.47    2.68              9.0        111     5000      21   \n",
       "2        mpfi       2.68    3.47              9.0        154     5000      19   \n",
       "3        mpfi       3.19    3.40             10.0        102     5500      24   \n",
       "4        mpfi       3.19    3.40              8.0        115     5500      18   \n",
       "\n",
       "   highwaympg    price  \n",
       "0          27  13495.0  \n",
       "1          27  16500.0  \n",
       "2          26  16500.0  \n",
       "3          30  13950.0  \n",
       "4          22  17450.0  \n",
       "\n",
       "[5 rows x 26 columns]"
      ]
     },
     "execution_count": 848,
     "metadata": {},
     "output_type": "execute_result"
    }
   ],
   "source": [
    "df.head()"
   ]
  },
  {
   "cell_type": "code",
   "execution_count": 849,
   "metadata": {},
   "outputs": [
    {
     "data": {
      "text/plain": [
       "Index(['car_ID', 'etat_de_route', 'marque_voiture', 'carburant', 'turbo',\n",
       "       'nombre_portes', 'type_vehicule', 'transmission', 'emplacement_moteur',\n",
       "       'empattement', 'longueur_voiture', 'largeur_voiture', 'hauteur_voiture',\n",
       "       'poids_vehicule', 'type_moteur', 'nombre_cylindres', 'taille_moteur',\n",
       "       'systeme_carburant', 'taux_alésage', 'course', 'taux_compression',\n",
       "       'chevaux', 'tour_moteur', 'consommation_ville',\n",
       "       'consommation_autoroute', 'prix'],\n",
       "      dtype='object')"
      ]
     },
     "execution_count": 849,
     "metadata": {},
     "output_type": "execute_result"
    }
   ],
   "source": [
    "\n",
    "df = df.rename(columns={'symboling': 'etat_de_route', 'CarName': 'marque_voiture', 'fueltype': 'carburant', 'aspiration': 'turbo', 'doornumber': 'nombre_portes', 'carbody': 'type_vehicule', 'drivewheel': 'transmission', 'enginelocation': 'emplacement_moteur', 'wheelbase': 'empattement', 'carlength': 'longueur_voiture', 'carwidth': 'largeur_voiture', 'carheight': 'hauteur_voiture', 'curbweight': 'poids_vehicule', 'enginetype': 'type_moteur', 'cylindernumber': 'nombre_cylindres', 'enginesize': 'taille_moteur', 'fuelsystem': 'systeme_carburant', 'boreratio': 'taux_alésage', 'stroke': 'course', 'compressionratio': 'taux_compression', 'horsepower': 'chevaux', 'peakrpm': 'tour_moteur', 'citympg': 'consommation_ville', 'highwaympg': 'consommation_autoroute', 'price': 'prix'})\n",
    "\n",
    "df.columns"
   ]
  },
  {
   "cell_type": "code",
   "execution_count": 850,
   "metadata": {},
   "outputs": [],
   "source": [
    "df.drop(['car_ID'], axis=1, inplace=True)"
   ]
  },
  {
   "attachments": {},
   "cell_type": "markdown",
   "metadata": {},
   "source": [
    "## Analyze marque_voiture column"
   ]
  },
  {
   "cell_type": "code",
   "execution_count": 851,
   "metadata": {},
   "outputs": [
    {
     "data": {
      "text/plain": [
       "array(['alfa-romero giulia', 'alfa-romero stelvio',\n",
       "       'alfa-romero Quadrifoglio', 'audi 100 ls', 'audi 100ls',\n",
       "       'audi fox', 'audi 5000', 'audi 4000', 'audi 5000s (diesel)',\n",
       "       'bmw 320i', 'bmw x1', 'bmw x3', 'bmw z4', 'bmw x4', 'bmw x5',\n",
       "       'chevrolet impala', 'chevrolet monte carlo', 'chevrolet vega 2300',\n",
       "       'dodge rampage', 'dodge challenger se', 'dodge d200',\n",
       "       'dodge monaco (sw)', 'dodge colt hardtop', 'dodge colt (sw)',\n",
       "       'dodge coronet custom', 'dodge dart custom',\n",
       "       'dodge coronet custom (sw)', 'honda civic', 'honda civic cvcc',\n",
       "       'honda accord cvcc', 'honda accord lx', 'honda civic 1500 gl',\n",
       "       'honda accord', 'honda civic 1300', 'honda prelude',\n",
       "       'honda civic (auto)', 'isuzu MU-X', 'isuzu D-Max ',\n",
       "       'isuzu D-Max V-Cross', 'jaguar xj', 'jaguar xf', 'jaguar xk',\n",
       "       'maxda rx3', 'maxda glc deluxe', 'mazda rx2 coupe', 'mazda rx-4',\n",
       "       'mazda glc deluxe', 'mazda 626', 'mazda glc', 'mazda rx-7 gs',\n",
       "       'mazda glc 4', 'mazda glc custom l', 'mazda glc custom',\n",
       "       'buick electra 225 custom', 'buick century luxus (sw)',\n",
       "       'buick century', 'buick skyhawk', 'buick opel isuzu deluxe',\n",
       "       'buick skylark', 'buick century special',\n",
       "       'buick regal sport coupe (turbo)', 'mercury cougar',\n",
       "       'mitsubishi mirage', 'mitsubishi lancer', 'mitsubishi outlander',\n",
       "       'mitsubishi g4', 'mitsubishi mirage g4', 'mitsubishi montero',\n",
       "       'mitsubishi pajero', 'Nissan versa', 'nissan gt-r', 'nissan rogue',\n",
       "       'nissan latio', 'nissan titan', 'nissan leaf', 'nissan juke',\n",
       "       'nissan note', 'nissan clipper', 'nissan nv200', 'nissan dayz',\n",
       "       'nissan fuga', 'nissan otti', 'nissan teana', 'nissan kicks',\n",
       "       'peugeot 504', 'peugeot 304', 'peugeot 504 (sw)', 'peugeot 604sl',\n",
       "       'peugeot 505s turbo diesel', 'plymouth fury iii',\n",
       "       'plymouth cricket', 'plymouth satellite custom (sw)',\n",
       "       'plymouth fury gran sedan', 'plymouth valiant', 'plymouth duster',\n",
       "       'porsche macan', 'porcshce panamera', 'porsche cayenne',\n",
       "       'porsche boxter', 'renault 12tl', 'renault 5 gtl', 'saab 99e',\n",
       "       'saab 99le', 'saab 99gle', 'subaru', 'subaru dl', 'subaru brz',\n",
       "       'subaru baja', 'subaru r1', 'subaru r2', 'subaru trezia',\n",
       "       'subaru tribeca', 'toyota corona mark ii', 'toyota corona',\n",
       "       'toyota corolla 1200', 'toyota corona hardtop',\n",
       "       'toyota corolla 1600 (sw)', 'toyota carina', 'toyota mark ii',\n",
       "       'toyota corolla', 'toyota corolla liftback',\n",
       "       'toyota celica gt liftback', 'toyota corolla tercel',\n",
       "       'toyota corona liftback', 'toyota starlet', 'toyota tercel',\n",
       "       'toyota cressida', 'toyota celica gt', 'toyouta tercel',\n",
       "       'vokswagen rabbit', 'volkswagen 1131 deluxe sedan',\n",
       "       'volkswagen model 111', 'volkswagen type 3', 'volkswagen 411 (sw)',\n",
       "       'volkswagen super beetle', 'volkswagen dasher', 'vw dasher',\n",
       "       'vw rabbit', 'volkswagen rabbit', 'volkswagen rabbit custom',\n",
       "       'volvo 145e (sw)', 'volvo 144ea', 'volvo 244dl', 'volvo 245',\n",
       "       'volvo 264gl', 'volvo diesel', 'volvo 246'], dtype=object)"
      ]
     },
     "execution_count": 851,
     "metadata": {},
     "output_type": "execute_result"
    }
   ],
   "source": [
    "df['marque_voiture'].unique()"
   ]
  },
  {
   "cell_type": "code",
   "execution_count": 852,
   "metadata": {},
   "outputs": [
    {
     "name": "stderr",
     "output_type": "stream",
     "text": [
      "/var/folders/d0/hykm8r4n4ygf9ms5__0w6f1r0000gn/T/ipykernel_2701/1816901120.py:3: FutureWarning: In a future version of pandas all arguments of StringMethods.split except for the argument 'pat' will be keyword-only.\n",
      "  df[['marque', 'modele']] = df['marque_voiture'].str.split(' ', 1, expand=True)\n"
     ]
    }
   ],
   "source": [
    "# Split the marque_voiture column into marque and modele\n",
    "df['marque_voiture'] = df['marque_voiture'].str.strip()\n",
    "df[['marque', 'modele']] = df['marque_voiture'].str.split(' ', 1, expand=True)\n",
    "df.drop('marque_voiture', axis=1, inplace=True)"
   ]
  },
  {
   "cell_type": "code",
   "execution_count": 853,
   "metadata": {},
   "outputs": [
    {
     "data": {
      "text/html": [
       "<div>\n",
       "<style scoped>\n",
       "    .dataframe tbody tr th:only-of-type {\n",
       "        vertical-align: middle;\n",
       "    }\n",
       "\n",
       "    .dataframe tbody tr th {\n",
       "        vertical-align: top;\n",
       "    }\n",
       "\n",
       "    .dataframe thead th {\n",
       "        text-align: right;\n",
       "    }\n",
       "</style>\n",
       "<table border=\"1\" class=\"dataframe\">\n",
       "  <thead>\n",
       "    <tr style=\"text-align: right;\">\n",
       "      <th></th>\n",
       "      <th>etat_de_route</th>\n",
       "      <th>carburant</th>\n",
       "      <th>turbo</th>\n",
       "      <th>nombre_portes</th>\n",
       "      <th>type_vehicule</th>\n",
       "      <th>transmission</th>\n",
       "      <th>emplacement_moteur</th>\n",
       "      <th>empattement</th>\n",
       "      <th>longueur_voiture</th>\n",
       "      <th>largeur_voiture</th>\n",
       "      <th>...</th>\n",
       "      <th>taux_alésage</th>\n",
       "      <th>course</th>\n",
       "      <th>taux_compression</th>\n",
       "      <th>chevaux</th>\n",
       "      <th>tour_moteur</th>\n",
       "      <th>consommation_ville</th>\n",
       "      <th>consommation_autoroute</th>\n",
       "      <th>prix</th>\n",
       "      <th>marque</th>\n",
       "      <th>modele</th>\n",
       "    </tr>\n",
       "  </thead>\n",
       "  <tbody>\n",
       "    <tr>\n",
       "      <th>0</th>\n",
       "      <td>3</td>\n",
       "      <td>gas</td>\n",
       "      <td>std</td>\n",
       "      <td>two</td>\n",
       "      <td>convertible</td>\n",
       "      <td>rwd</td>\n",
       "      <td>front</td>\n",
       "      <td>88.6</td>\n",
       "      <td>168.8</td>\n",
       "      <td>64.1</td>\n",
       "      <td>...</td>\n",
       "      <td>3.47</td>\n",
       "      <td>2.68</td>\n",
       "      <td>9.0</td>\n",
       "      <td>111</td>\n",
       "      <td>5000</td>\n",
       "      <td>21</td>\n",
       "      <td>27</td>\n",
       "      <td>13495.0</td>\n",
       "      <td>alfa-romero</td>\n",
       "      <td>giulia</td>\n",
       "    </tr>\n",
       "    <tr>\n",
       "      <th>1</th>\n",
       "      <td>3</td>\n",
       "      <td>gas</td>\n",
       "      <td>std</td>\n",
       "      <td>two</td>\n",
       "      <td>convertible</td>\n",
       "      <td>rwd</td>\n",
       "      <td>front</td>\n",
       "      <td>88.6</td>\n",
       "      <td>168.8</td>\n",
       "      <td>64.1</td>\n",
       "      <td>...</td>\n",
       "      <td>3.47</td>\n",
       "      <td>2.68</td>\n",
       "      <td>9.0</td>\n",
       "      <td>111</td>\n",
       "      <td>5000</td>\n",
       "      <td>21</td>\n",
       "      <td>27</td>\n",
       "      <td>16500.0</td>\n",
       "      <td>alfa-romero</td>\n",
       "      <td>stelvio</td>\n",
       "    </tr>\n",
       "    <tr>\n",
       "      <th>2</th>\n",
       "      <td>1</td>\n",
       "      <td>gas</td>\n",
       "      <td>std</td>\n",
       "      <td>two</td>\n",
       "      <td>hatchback</td>\n",
       "      <td>rwd</td>\n",
       "      <td>front</td>\n",
       "      <td>94.5</td>\n",
       "      <td>171.2</td>\n",
       "      <td>65.5</td>\n",
       "      <td>...</td>\n",
       "      <td>2.68</td>\n",
       "      <td>3.47</td>\n",
       "      <td>9.0</td>\n",
       "      <td>154</td>\n",
       "      <td>5000</td>\n",
       "      <td>19</td>\n",
       "      <td>26</td>\n",
       "      <td>16500.0</td>\n",
       "      <td>alfa-romero</td>\n",
       "      <td>Quadrifoglio</td>\n",
       "    </tr>\n",
       "    <tr>\n",
       "      <th>3</th>\n",
       "      <td>2</td>\n",
       "      <td>gas</td>\n",
       "      <td>std</td>\n",
       "      <td>four</td>\n",
       "      <td>sedan</td>\n",
       "      <td>fwd</td>\n",
       "      <td>front</td>\n",
       "      <td>99.8</td>\n",
       "      <td>176.6</td>\n",
       "      <td>66.2</td>\n",
       "      <td>...</td>\n",
       "      <td>3.19</td>\n",
       "      <td>3.40</td>\n",
       "      <td>10.0</td>\n",
       "      <td>102</td>\n",
       "      <td>5500</td>\n",
       "      <td>24</td>\n",
       "      <td>30</td>\n",
       "      <td>13950.0</td>\n",
       "      <td>audi</td>\n",
       "      <td>100 ls</td>\n",
       "    </tr>\n",
       "    <tr>\n",
       "      <th>4</th>\n",
       "      <td>2</td>\n",
       "      <td>gas</td>\n",
       "      <td>std</td>\n",
       "      <td>four</td>\n",
       "      <td>sedan</td>\n",
       "      <td>4wd</td>\n",
       "      <td>front</td>\n",
       "      <td>99.4</td>\n",
       "      <td>176.6</td>\n",
       "      <td>66.4</td>\n",
       "      <td>...</td>\n",
       "      <td>3.19</td>\n",
       "      <td>3.40</td>\n",
       "      <td>8.0</td>\n",
       "      <td>115</td>\n",
       "      <td>5500</td>\n",
       "      <td>18</td>\n",
       "      <td>22</td>\n",
       "      <td>17450.0</td>\n",
       "      <td>audi</td>\n",
       "      <td>100ls</td>\n",
       "    </tr>\n",
       "    <tr>\n",
       "      <th>...</th>\n",
       "      <td>...</td>\n",
       "      <td>...</td>\n",
       "      <td>...</td>\n",
       "      <td>...</td>\n",
       "      <td>...</td>\n",
       "      <td>...</td>\n",
       "      <td>...</td>\n",
       "      <td>...</td>\n",
       "      <td>...</td>\n",
       "      <td>...</td>\n",
       "      <td>...</td>\n",
       "      <td>...</td>\n",
       "      <td>...</td>\n",
       "      <td>...</td>\n",
       "      <td>...</td>\n",
       "      <td>...</td>\n",
       "      <td>...</td>\n",
       "      <td>...</td>\n",
       "      <td>...</td>\n",
       "      <td>...</td>\n",
       "      <td>...</td>\n",
       "    </tr>\n",
       "    <tr>\n",
       "      <th>200</th>\n",
       "      <td>-1</td>\n",
       "      <td>gas</td>\n",
       "      <td>std</td>\n",
       "      <td>four</td>\n",
       "      <td>sedan</td>\n",
       "      <td>rwd</td>\n",
       "      <td>front</td>\n",
       "      <td>109.1</td>\n",
       "      <td>188.8</td>\n",
       "      <td>68.9</td>\n",
       "      <td>...</td>\n",
       "      <td>3.78</td>\n",
       "      <td>3.15</td>\n",
       "      <td>9.5</td>\n",
       "      <td>114</td>\n",
       "      <td>5400</td>\n",
       "      <td>23</td>\n",
       "      <td>28</td>\n",
       "      <td>16845.0</td>\n",
       "      <td>volvo</td>\n",
       "      <td>145e (sw)</td>\n",
       "    </tr>\n",
       "    <tr>\n",
       "      <th>201</th>\n",
       "      <td>-1</td>\n",
       "      <td>gas</td>\n",
       "      <td>turbo</td>\n",
       "      <td>four</td>\n",
       "      <td>sedan</td>\n",
       "      <td>rwd</td>\n",
       "      <td>front</td>\n",
       "      <td>109.1</td>\n",
       "      <td>188.8</td>\n",
       "      <td>68.8</td>\n",
       "      <td>...</td>\n",
       "      <td>3.78</td>\n",
       "      <td>3.15</td>\n",
       "      <td>8.7</td>\n",
       "      <td>160</td>\n",
       "      <td>5300</td>\n",
       "      <td>19</td>\n",
       "      <td>25</td>\n",
       "      <td>19045.0</td>\n",
       "      <td>volvo</td>\n",
       "      <td>144ea</td>\n",
       "    </tr>\n",
       "    <tr>\n",
       "      <th>202</th>\n",
       "      <td>-1</td>\n",
       "      <td>gas</td>\n",
       "      <td>std</td>\n",
       "      <td>four</td>\n",
       "      <td>sedan</td>\n",
       "      <td>rwd</td>\n",
       "      <td>front</td>\n",
       "      <td>109.1</td>\n",
       "      <td>188.8</td>\n",
       "      <td>68.9</td>\n",
       "      <td>...</td>\n",
       "      <td>3.58</td>\n",
       "      <td>2.87</td>\n",
       "      <td>8.8</td>\n",
       "      <td>134</td>\n",
       "      <td>5500</td>\n",
       "      <td>18</td>\n",
       "      <td>23</td>\n",
       "      <td>21485.0</td>\n",
       "      <td>volvo</td>\n",
       "      <td>244dl</td>\n",
       "    </tr>\n",
       "    <tr>\n",
       "      <th>203</th>\n",
       "      <td>-1</td>\n",
       "      <td>diesel</td>\n",
       "      <td>turbo</td>\n",
       "      <td>four</td>\n",
       "      <td>sedan</td>\n",
       "      <td>rwd</td>\n",
       "      <td>front</td>\n",
       "      <td>109.1</td>\n",
       "      <td>188.8</td>\n",
       "      <td>68.9</td>\n",
       "      <td>...</td>\n",
       "      <td>3.01</td>\n",
       "      <td>3.40</td>\n",
       "      <td>23.0</td>\n",
       "      <td>106</td>\n",
       "      <td>4800</td>\n",
       "      <td>26</td>\n",
       "      <td>27</td>\n",
       "      <td>22470.0</td>\n",
       "      <td>volvo</td>\n",
       "      <td>246</td>\n",
       "    </tr>\n",
       "    <tr>\n",
       "      <th>204</th>\n",
       "      <td>-1</td>\n",
       "      <td>gas</td>\n",
       "      <td>turbo</td>\n",
       "      <td>four</td>\n",
       "      <td>sedan</td>\n",
       "      <td>rwd</td>\n",
       "      <td>front</td>\n",
       "      <td>109.1</td>\n",
       "      <td>188.8</td>\n",
       "      <td>68.9</td>\n",
       "      <td>...</td>\n",
       "      <td>3.78</td>\n",
       "      <td>3.15</td>\n",
       "      <td>9.5</td>\n",
       "      <td>114</td>\n",
       "      <td>5400</td>\n",
       "      <td>19</td>\n",
       "      <td>25</td>\n",
       "      <td>22625.0</td>\n",
       "      <td>volvo</td>\n",
       "      <td>264gl</td>\n",
       "    </tr>\n",
       "  </tbody>\n",
       "</table>\n",
       "<p>205 rows × 26 columns</p>\n",
       "</div>"
      ],
      "text/plain": [
       "     etat_de_route carburant  turbo nombre_portes type_vehicule transmission  \\\n",
       "0                3       gas    std           two   convertible          rwd   \n",
       "1                3       gas    std           two   convertible          rwd   \n",
       "2                1       gas    std           two     hatchback          rwd   \n",
       "3                2       gas    std          four         sedan          fwd   \n",
       "4                2       gas    std          four         sedan          4wd   \n",
       "..             ...       ...    ...           ...           ...          ...   \n",
       "200             -1       gas    std          four         sedan          rwd   \n",
       "201             -1       gas  turbo          four         sedan          rwd   \n",
       "202             -1       gas    std          four         sedan          rwd   \n",
       "203             -1    diesel  turbo          four         sedan          rwd   \n",
       "204             -1       gas  turbo          four         sedan          rwd   \n",
       "\n",
       "    emplacement_moteur  empattement  longueur_voiture  largeur_voiture  ...  \\\n",
       "0                front         88.6             168.8             64.1  ...   \n",
       "1                front         88.6             168.8             64.1  ...   \n",
       "2                front         94.5             171.2             65.5  ...   \n",
       "3                front         99.8             176.6             66.2  ...   \n",
       "4                front         99.4             176.6             66.4  ...   \n",
       "..                 ...          ...               ...              ...  ...   \n",
       "200              front        109.1             188.8             68.9  ...   \n",
       "201              front        109.1             188.8             68.8  ...   \n",
       "202              front        109.1             188.8             68.9  ...   \n",
       "203              front        109.1             188.8             68.9  ...   \n",
       "204              front        109.1             188.8             68.9  ...   \n",
       "\n",
       "     taux_alésage  course taux_compression chevaux  tour_moteur  \\\n",
       "0            3.47    2.68              9.0     111         5000   \n",
       "1            3.47    2.68              9.0     111         5000   \n",
       "2            2.68    3.47              9.0     154         5000   \n",
       "3            3.19    3.40             10.0     102         5500   \n",
       "4            3.19    3.40              8.0     115         5500   \n",
       "..            ...     ...              ...     ...          ...   \n",
       "200          3.78    3.15              9.5     114         5400   \n",
       "201          3.78    3.15              8.7     160         5300   \n",
       "202          3.58    2.87              8.8     134         5500   \n",
       "203          3.01    3.40             23.0     106         4800   \n",
       "204          3.78    3.15              9.5     114         5400   \n",
       "\n",
       "    consommation_ville  consommation_autoroute     prix       marque  \\\n",
       "0                   21                      27  13495.0  alfa-romero   \n",
       "1                   21                      27  16500.0  alfa-romero   \n",
       "2                   19                      26  16500.0  alfa-romero   \n",
       "3                   24                      30  13950.0         audi   \n",
       "4                   18                      22  17450.0         audi   \n",
       "..                 ...                     ...      ...          ...   \n",
       "200                 23                      28  16845.0        volvo   \n",
       "201                 19                      25  19045.0        volvo   \n",
       "202                 18                      23  21485.0        volvo   \n",
       "203                 26                      27  22470.0        volvo   \n",
       "204                 19                      25  22625.0        volvo   \n",
       "\n",
       "           modele  \n",
       "0          giulia  \n",
       "1         stelvio  \n",
       "2    Quadrifoglio  \n",
       "3          100 ls  \n",
       "4           100ls  \n",
       "..            ...  \n",
       "200     145e (sw)  \n",
       "201         144ea  \n",
       "202         244dl  \n",
       "203           246  \n",
       "204         264gl  \n",
       "\n",
       "[205 rows x 26 columns]"
      ]
     },
     "execution_count": 853,
     "metadata": {},
     "output_type": "execute_result"
    }
   ],
   "source": [
    "df"
   ]
  },
  {
   "attachments": {},
   "cell_type": "markdown",
   "metadata": {},
   "source": [
    "## Carburant column"
   ]
  },
  {
   "cell_type": "code",
   "execution_count": 854,
   "metadata": {},
   "outputs": [
    {
     "data": {
      "text/plain": [
       "array(['essence', 'diesel'], dtype=object)"
      ]
     },
     "execution_count": 854,
     "metadata": {},
     "output_type": "execute_result"
    }
   ],
   "source": [
    "# Want rename gas to essence\n",
    "df['carburant'] = df['carburant'].replace('gas', 'essence')\n",
    "df['carburant'].unique()"
   ]
  },
  {
   "attachments": {},
   "cell_type": "markdown",
   "metadata": {},
   "source": [
    "## nombre_portes colunm - Change values"
   ]
  },
  {
   "cell_type": "code",
   "execution_count": 855,
   "metadata": {},
   "outputs": [
    {
     "data": {
      "text/plain": [
       "array(['two', 'four'], dtype=object)"
      ]
     },
     "execution_count": 855,
     "metadata": {},
     "output_type": "execute_result"
    }
   ],
   "source": [
    "df['nombre_portes'].unique()"
   ]
  },
  {
   "cell_type": "code",
   "execution_count": 856,
   "metadata": {},
   "outputs": [],
   "source": [
    "# Replace the values in the nombre_portes column\n",
    "df['nombre_portes'] = df['nombre_portes'].replace({'two': 2, 'four': 4})"
   ]
  },
  {
   "attachments": {},
   "cell_type": "markdown",
   "metadata": {},
   "source": [
    "## type_vehicule column - Change values"
   ]
  },
  {
   "cell_type": "code",
   "execution_count": 857,
   "metadata": {},
   "outputs": [
    {
     "data": {
      "text/plain": [
       "array(['convertible', 'hatchback', 'sedan', 'wagon', 'hardtop'],\n",
       "      dtype=object)"
      ]
     },
     "execution_count": 857,
     "metadata": {},
     "output_type": "execute_result"
    }
   ],
   "source": [
    "df['type_vehicule'].unique()"
   ]
  },
  {
   "cell_type": "code",
   "execution_count": 858,
   "metadata": {},
   "outputs": [],
   "source": [
    "df['type_vehicule'] = df['type_vehicule'].replace({'convertible': 'cabriolet', 'hatchback': 'hayon', 'sedan': 'berline', 'wagon': 'break', 'hardtop': 'coupé'})"
   ]
  },
  {
   "attachments": {},
   "cell_type": "markdown",
   "metadata": {},
   "source": [
    "## transmission column - change values"
   ]
  },
  {
   "cell_type": "code",
   "execution_count": 859,
   "metadata": {},
   "outputs": [
    {
     "data": {
      "text/plain": [
       "array(['rwd', 'fwd', '4wd'], dtype=object)"
      ]
     },
     "execution_count": 859,
     "metadata": {},
     "output_type": "execute_result"
    }
   ],
   "source": [
    "df['transmission'].unique()"
   ]
  },
  {
   "cell_type": "code",
   "execution_count": 860,
   "metadata": {},
   "outputs": [],
   "source": [
    "df['transmission'] = df['transmission'].replace({'rwd': 'propulsion', 'fwd': 'traction', '4wd': 'quatre_roues_motrices'})"
   ]
  },
  {
   "attachments": {},
   "cell_type": "markdown",
   "metadata": {},
   "source": [
    "## emplacement_moteur column - change values"
   ]
  },
  {
   "cell_type": "code",
   "execution_count": 861,
   "metadata": {},
   "outputs": [
    {
     "data": {
      "text/plain": [
       "array(['front', 'rear'], dtype=object)"
      ]
     },
     "execution_count": 861,
     "metadata": {},
     "output_type": "execute_result"
    }
   ],
   "source": [
    "df['emplacement_moteur'].unique()"
   ]
  },
  {
   "cell_type": "code",
   "execution_count": 862,
   "metadata": {},
   "outputs": [],
   "source": [
    "df['emplacement_moteur'] = df['emplacement_moteur'].replace({'front': 'avant', 'rear': 'arrière'})"
   ]
  },
  {
   "attachments": {},
   "cell_type": "markdown",
   "metadata": {},
   "source": [
    "## turbo column - Change values"
   ]
  },
  {
   "cell_type": "code",
   "execution_count": 863,
   "metadata": {},
   "outputs": [
    {
     "data": {
      "text/plain": [
       "array(['std', 'turbo'], dtype=object)"
      ]
     },
     "execution_count": 863,
     "metadata": {},
     "output_type": "execute_result"
    }
   ],
   "source": [
    "df['turbo'].unique()"
   ]
  },
  {
   "cell_type": "code",
   "execution_count": 864,
   "metadata": {},
   "outputs": [],
   "source": [
    "df['turbo'] = df['turbo'].replace({'std': 0, 'turbo': 1})"
   ]
  },
  {
   "attachments": {},
   "cell_type": "markdown",
   "metadata": {},
   "source": [
    "## Convert values inches to centimeters"
   ]
  },
  {
   "cell_type": "code",
   "execution_count": 865,
   "metadata": {},
   "outputs": [],
   "source": [
    "def convert_to_centimeters(value):\n",
    "    return value * 2.54"
   ]
  },
  {
   "attachments": {},
   "cell_type": "markdown",
   "metadata": {},
   "source": [
    "### Before convert"
   ]
  },
  {
   "cell_type": "code",
   "execution_count": 866,
   "metadata": {},
   "outputs": [
    {
     "data": {
      "text/plain": [
       "array([168.8, 171.2, 176.6, 177.3, 192.7, 178.2, 176.8, 189. , 193.8,\n",
       "       197. , 141.1, 155.9, 158.8, 157.3, 174.6, 173.2, 144.6, 150. ,\n",
       "       163.4, 157.1, 167.5, 175.4, 169.1, 170.7, 172.6, 199.6, 191.7,\n",
       "       159.1, 166.8, 169. , 177.8, 175. , 190.9, 187.5, 202.6, 180.3,\n",
       "       208.1, 199.2, 178.4, 173. , 172.4, 165.3, 170.2, 165.6, 162.4,\n",
       "       173.4, 181.7, 184.6, 178.5, 186.7, 198.9, 167.3, 168.9, 175.7,\n",
       "       181.5, 186.6, 156.9, 157.9, 172. , 173.5, 173.6, 158.7, 169.7,\n",
       "       166.3, 168.7, 176.2, 175.6, 183.5, 187.8, 171.7, 159.3, 165.7,\n",
       "       180.2, 183.1, 188.8])"
      ]
     },
     "execution_count": 866,
     "metadata": {},
     "output_type": "execute_result"
    }
   ],
   "source": [
    "df['longueur_voiture'].unique()"
   ]
  },
  {
   "cell_type": "code",
   "execution_count": 867,
   "metadata": {},
   "outputs": [
    {
     "data": {
      "text/plain": [
       "array([64.1, 65.5, 66.2, 66.4, 66.3, 71.4, 67.9, 64.8, 66.9, 70.9, 60.3,\n",
       "       63.6, 63.8, 64.6, 63.9, 64. , 65.2, 62.5, 66. , 61.8, 69.6, 70.6,\n",
       "       64.2, 65.7, 66.5, 66.1, 70.3, 71.7, 70.5, 72. , 68. , 64.4, 65.4,\n",
       "       68.4, 68.3, 65. , 72.3, 66.6, 63.4, 65.6, 67.7, 67.2, 68.9, 68.8])"
      ]
     },
     "execution_count": 867,
     "metadata": {},
     "output_type": "execute_result"
    }
   ],
   "source": [
    "df['largeur_voiture'].unique()"
   ]
  },
  {
   "cell_type": "code",
   "execution_count": 868,
   "metadata": {},
   "outputs": [
    {
     "data": {
      "text/plain": [
       "array([48.8, 52.4, 54.3, 53.1, 55.7, 55.9, 52. , 53.7, 56.3, 53.2, 50.8,\n",
       "       50.6, 59.8, 50.2, 52.6, 54.5, 58.3, 53.3, 54.1, 51. , 53.5, 51.4,\n",
       "       52.8, 47.8, 49.6, 55.5, 54.4, 56.5, 58.7, 54.9, 56.7, 55.4, 54.8,\n",
       "       49.4, 51.6, 54.7, 55.1, 56.1, 49.7, 56. , 50.5, 55.2, 52.5, 53. ,\n",
       "       59.1, 53.9, 55.6, 56.2, 57.5])"
      ]
     },
     "execution_count": 868,
     "metadata": {},
     "output_type": "execute_result"
    }
   ],
   "source": [
    "df['hauteur_voiture'].unique()"
   ]
  },
  {
   "cell_type": "code",
   "execution_count": 869,
   "metadata": {},
   "outputs": [
    {
     "data": {
      "text/plain": [
       "array([ 88.6,  94.5,  99.8,  99.4, 105.8,  99.5, 101.2, 103.5, 110. ,\n",
       "        88.4,  93.7, 103.3,  95.9,  86.6,  96.5,  94.3,  96. , 113. ,\n",
       "       102. ,  93.1,  95.3,  98.8, 104.9, 106.7, 115.6,  96.6, 120.9,\n",
       "       112. , 102.7,  93. ,  96.3,  95.1,  97.2, 100.4,  91.3,  99.2,\n",
       "       107.9, 114.2, 108. ,  89.5,  98.4,  96.1,  99.1,  93.3,  97. ,\n",
       "        96.9,  95.7, 102.4, 102.9, 104.5,  97.3, 104.3, 109.1])"
      ]
     },
     "execution_count": 869,
     "metadata": {},
     "output_type": "execute_result"
    }
   ],
   "source": [
    "df['empattement'].unique()"
   ]
  },
  {
   "cell_type": "code",
   "execution_count": 870,
   "metadata": {},
   "outputs": [],
   "source": [
    "df['longueur_voiture'], df['largeur_voiture'], df['hauteur_voiture'], df['empattement'] = df['longueur_voiture'].apply(convert_to_centimeters), df['largeur_voiture'].apply(convert_to_centimeters), df['hauteur_voiture'].apply(convert_to_centimeters), df['empattement'].apply(convert_to_centimeters)"
   ]
  },
  {
   "attachments": {},
   "cell_type": "markdown",
   "metadata": {},
   "source": [
    "### After convert"
   ]
  },
  {
   "cell_type": "code",
   "execution_count": 871,
   "metadata": {},
   "outputs": [
    {
     "data": {
      "text/plain": [
       "array([428.752, 434.848, 448.564, 450.342, 489.458, 452.628, 449.072,\n",
       "       480.06 , 492.252, 500.38 , 358.394, 395.986, 403.352, 399.542,\n",
       "       443.484, 439.928, 367.284, 381.   , 415.036, 399.034, 425.45 ,\n",
       "       445.516, 429.514, 433.578, 438.404, 506.984, 486.918, 404.114,\n",
       "       423.672, 429.26 , 451.612, 444.5  , 484.886, 476.25 , 514.604,\n",
       "       457.962, 528.574, 505.968, 453.136, 439.42 , 437.896, 419.862,\n",
       "       432.308, 420.624, 412.496, 440.436, 461.518, 468.884, 453.39 ,\n",
       "       474.218, 505.206, 424.942, 429.006, 446.278, 461.01 , 473.964,\n",
       "       398.526, 401.066, 436.88 , 440.69 , 440.944, 403.098, 431.038,\n",
       "       422.402, 428.498, 447.548, 446.024, 466.09 , 477.012, 436.118,\n",
       "       404.622, 420.878, 457.708, 465.074, 479.552])"
      ]
     },
     "execution_count": 871,
     "metadata": {},
     "output_type": "execute_result"
    }
   ],
   "source": [
    "df['longueur_voiture'].unique()"
   ]
  },
  {
   "cell_type": "code",
   "execution_count": 872,
   "metadata": {},
   "outputs": [
    {
     "data": {
      "text/plain": [
       "array([162.814, 166.37 , 168.148, 168.656, 168.402, 181.356, 172.466,\n",
       "       164.592, 169.926, 180.086, 153.162, 161.544, 162.052, 164.084,\n",
       "       162.306, 162.56 , 165.608, 158.75 , 167.64 , 156.972, 176.784,\n",
       "       179.324, 163.068, 166.878, 168.91 , 167.894, 178.562, 182.118,\n",
       "       179.07 , 182.88 , 172.72 , 163.576, 166.116, 173.736, 173.482,\n",
       "       165.1  , 183.642, 169.164, 161.036, 166.624, 171.958, 170.688,\n",
       "       175.006, 174.752])"
      ]
     },
     "execution_count": 872,
     "metadata": {},
     "output_type": "execute_result"
    }
   ],
   "source": [
    "df['largeur_voiture'].unique()"
   ]
  },
  {
   "cell_type": "code",
   "execution_count": 873,
   "metadata": {},
   "outputs": [
    {
     "data": {
      "text/plain": [
       "array([123.952, 133.096, 137.922, 134.874, 141.478, 141.986, 132.08 ,\n",
       "       136.398, 143.002, 135.128, 129.032, 128.524, 151.892, 127.508,\n",
       "       133.604, 138.43 , 148.082, 135.382, 137.414, 129.54 , 135.89 ,\n",
       "       130.556, 134.112, 121.412, 125.984, 140.97 , 138.176, 143.51 ,\n",
       "       149.098, 139.446, 144.018, 140.716, 139.192, 125.476, 131.064,\n",
       "       138.938, 139.954, 142.494, 126.238, 142.24 , 128.27 , 140.208,\n",
       "       133.35 , 134.62 , 150.114, 136.906, 141.224, 142.748, 146.05 ])"
      ]
     },
     "execution_count": 873,
     "metadata": {},
     "output_type": "execute_result"
    }
   ],
   "source": [
    "df['hauteur_voiture'].unique()"
   ]
  },
  {
   "cell_type": "code",
   "execution_count": 874,
   "metadata": {},
   "outputs": [
    {
     "data": {
      "text/plain": [
       "array([225.044, 240.03 , 253.492, 252.476, 268.732, 252.73 , 257.048,\n",
       "       262.89 , 279.4  , 224.536, 237.998, 262.382, 243.586, 219.964,\n",
       "       245.11 , 239.522, 243.84 , 287.02 , 259.08 , 236.474, 242.062,\n",
       "       250.952, 266.446, 271.018, 293.624, 245.364, 307.086, 284.48 ,\n",
       "       260.858, 236.22 , 244.602, 241.554, 246.888, 255.016, 231.902,\n",
       "       251.968, 274.066, 290.068, 274.32 , 227.33 , 249.936, 244.094,\n",
       "       251.714, 236.982, 246.38 , 246.126, 243.078, 260.096, 261.366,\n",
       "       265.43 , 247.142, 264.922, 277.114])"
      ]
     },
     "execution_count": 874,
     "metadata": {},
     "output_type": "execute_result"
    }
   ],
   "source": [
    "df['empattement'].unique()"
   ]
  },
  {
   "cell_type": "code",
   "execution_count": 875,
   "metadata": {},
   "outputs": [
    {
     "data": {
      "text/html": [
       "<div>\n",
       "<style scoped>\n",
       "    .dataframe tbody tr th:only-of-type {\n",
       "        vertical-align: middle;\n",
       "    }\n",
       "\n",
       "    .dataframe tbody tr th {\n",
       "        vertical-align: top;\n",
       "    }\n",
       "\n",
       "    .dataframe thead th {\n",
       "        text-align: right;\n",
       "    }\n",
       "</style>\n",
       "<table border=\"1\" class=\"dataframe\">\n",
       "  <thead>\n",
       "    <tr style=\"text-align: right;\">\n",
       "      <th></th>\n",
       "      <th>etat_de_route</th>\n",
       "      <th>carburant</th>\n",
       "      <th>turbo</th>\n",
       "      <th>nombre_portes</th>\n",
       "      <th>type_vehicule</th>\n",
       "      <th>transmission</th>\n",
       "      <th>emplacement_moteur</th>\n",
       "      <th>empattement</th>\n",
       "      <th>longueur_voiture</th>\n",
       "      <th>largeur_voiture</th>\n",
       "      <th>...</th>\n",
       "      <th>taux_alésage</th>\n",
       "      <th>course</th>\n",
       "      <th>taux_compression</th>\n",
       "      <th>chevaux</th>\n",
       "      <th>tour_moteur</th>\n",
       "      <th>consommation_ville</th>\n",
       "      <th>consommation_autoroute</th>\n",
       "      <th>prix</th>\n",
       "      <th>marque</th>\n",
       "      <th>modele</th>\n",
       "    </tr>\n",
       "  </thead>\n",
       "  <tbody>\n",
       "    <tr>\n",
       "      <th>0</th>\n",
       "      <td>3</td>\n",
       "      <td>essence</td>\n",
       "      <td>0</td>\n",
       "      <td>2</td>\n",
       "      <td>cabriolet</td>\n",
       "      <td>propulsion</td>\n",
       "      <td>avant</td>\n",
       "      <td>225.044</td>\n",
       "      <td>428.752</td>\n",
       "      <td>162.814</td>\n",
       "      <td>...</td>\n",
       "      <td>3.47</td>\n",
       "      <td>2.68</td>\n",
       "      <td>9.0</td>\n",
       "      <td>111</td>\n",
       "      <td>5000</td>\n",
       "      <td>21</td>\n",
       "      <td>27</td>\n",
       "      <td>13495.0</td>\n",
       "      <td>alfa-romero</td>\n",
       "      <td>giulia</td>\n",
       "    </tr>\n",
       "    <tr>\n",
       "      <th>1</th>\n",
       "      <td>3</td>\n",
       "      <td>essence</td>\n",
       "      <td>0</td>\n",
       "      <td>2</td>\n",
       "      <td>cabriolet</td>\n",
       "      <td>propulsion</td>\n",
       "      <td>avant</td>\n",
       "      <td>225.044</td>\n",
       "      <td>428.752</td>\n",
       "      <td>162.814</td>\n",
       "      <td>...</td>\n",
       "      <td>3.47</td>\n",
       "      <td>2.68</td>\n",
       "      <td>9.0</td>\n",
       "      <td>111</td>\n",
       "      <td>5000</td>\n",
       "      <td>21</td>\n",
       "      <td>27</td>\n",
       "      <td>16500.0</td>\n",
       "      <td>alfa-romero</td>\n",
       "      <td>stelvio</td>\n",
       "    </tr>\n",
       "    <tr>\n",
       "      <th>2</th>\n",
       "      <td>1</td>\n",
       "      <td>essence</td>\n",
       "      <td>0</td>\n",
       "      <td>2</td>\n",
       "      <td>hayon</td>\n",
       "      <td>propulsion</td>\n",
       "      <td>avant</td>\n",
       "      <td>240.030</td>\n",
       "      <td>434.848</td>\n",
       "      <td>166.370</td>\n",
       "      <td>...</td>\n",
       "      <td>2.68</td>\n",
       "      <td>3.47</td>\n",
       "      <td>9.0</td>\n",
       "      <td>154</td>\n",
       "      <td>5000</td>\n",
       "      <td>19</td>\n",
       "      <td>26</td>\n",
       "      <td>16500.0</td>\n",
       "      <td>alfa-romero</td>\n",
       "      <td>Quadrifoglio</td>\n",
       "    </tr>\n",
       "    <tr>\n",
       "      <th>3</th>\n",
       "      <td>2</td>\n",
       "      <td>essence</td>\n",
       "      <td>0</td>\n",
       "      <td>4</td>\n",
       "      <td>berline</td>\n",
       "      <td>traction</td>\n",
       "      <td>avant</td>\n",
       "      <td>253.492</td>\n",
       "      <td>448.564</td>\n",
       "      <td>168.148</td>\n",
       "      <td>...</td>\n",
       "      <td>3.19</td>\n",
       "      <td>3.40</td>\n",
       "      <td>10.0</td>\n",
       "      <td>102</td>\n",
       "      <td>5500</td>\n",
       "      <td>24</td>\n",
       "      <td>30</td>\n",
       "      <td>13950.0</td>\n",
       "      <td>audi</td>\n",
       "      <td>100 ls</td>\n",
       "    </tr>\n",
       "    <tr>\n",
       "      <th>4</th>\n",
       "      <td>2</td>\n",
       "      <td>essence</td>\n",
       "      <td>0</td>\n",
       "      <td>4</td>\n",
       "      <td>berline</td>\n",
       "      <td>quatre_roues_motrices</td>\n",
       "      <td>avant</td>\n",
       "      <td>252.476</td>\n",
       "      <td>448.564</td>\n",
       "      <td>168.656</td>\n",
       "      <td>...</td>\n",
       "      <td>3.19</td>\n",
       "      <td>3.40</td>\n",
       "      <td>8.0</td>\n",
       "      <td>115</td>\n",
       "      <td>5500</td>\n",
       "      <td>18</td>\n",
       "      <td>22</td>\n",
       "      <td>17450.0</td>\n",
       "      <td>audi</td>\n",
       "      <td>100ls</td>\n",
       "    </tr>\n",
       "  </tbody>\n",
       "</table>\n",
       "<p>5 rows × 26 columns</p>\n",
       "</div>"
      ],
      "text/plain": [
       "   etat_de_route carburant  turbo  nombre_portes type_vehicule  \\\n",
       "0              3   essence      0              2     cabriolet   \n",
       "1              3   essence      0              2     cabriolet   \n",
       "2              1   essence      0              2         hayon   \n",
       "3              2   essence      0              4       berline   \n",
       "4              2   essence      0              4       berline   \n",
       "\n",
       "            transmission emplacement_moteur  empattement  longueur_voiture  \\\n",
       "0             propulsion              avant      225.044           428.752   \n",
       "1             propulsion              avant      225.044           428.752   \n",
       "2             propulsion              avant      240.030           434.848   \n",
       "3               traction              avant      253.492           448.564   \n",
       "4  quatre_roues_motrices              avant      252.476           448.564   \n",
       "\n",
       "   largeur_voiture  ...  taux_alésage  course taux_compression chevaux  \\\n",
       "0          162.814  ...          3.47    2.68              9.0     111   \n",
       "1          162.814  ...          3.47    2.68              9.0     111   \n",
       "2          166.370  ...          2.68    3.47              9.0     154   \n",
       "3          168.148  ...          3.19    3.40             10.0     102   \n",
       "4          168.656  ...          3.19    3.40              8.0     115   \n",
       "\n",
       "   tour_moteur consommation_ville  consommation_autoroute     prix  \\\n",
       "0         5000                 21                      27  13495.0   \n",
       "1         5000                 21                      27  16500.0   \n",
       "2         5000                 19                      26  16500.0   \n",
       "3         5500                 24                      30  13950.0   \n",
       "4         5500                 18                      22  17450.0   \n",
       "\n",
       "        marque        modele  \n",
       "0  alfa-romero        giulia  \n",
       "1  alfa-romero       stelvio  \n",
       "2  alfa-romero  Quadrifoglio  \n",
       "3         audi        100 ls  \n",
       "4         audi         100ls  \n",
       "\n",
       "[5 rows x 26 columns]"
      ]
     },
     "execution_count": 875,
     "metadata": {},
     "output_type": "execute_result"
    }
   ],
   "source": [
    "df.head()"
   ]
  },
  {
   "attachments": {},
   "cell_type": "markdown",
   "metadata": {},
   "source": [
    "## Convert values pound to kg"
   ]
  },
  {
   "cell_type": "code",
   "execution_count": 876,
   "metadata": {},
   "outputs": [
    {
     "data": {
      "text/plain": [
       "Index(['etat_de_route', 'carburant', 'turbo', 'nombre_portes', 'type_vehicule',\n",
       "       'transmission', 'emplacement_moteur', 'empattement', 'longueur_voiture',\n",
       "       'largeur_voiture', 'hauteur_voiture', 'poids_vehicule', 'type_moteur',\n",
       "       'nombre_cylindres', 'taille_moteur', 'systeme_carburant',\n",
       "       'taux_alésage', 'course', 'taux_compression', 'chevaux', 'tour_moteur',\n",
       "       'consommation_ville', 'consommation_autoroute', 'prix', 'marque',\n",
       "       'modele'],\n",
       "      dtype='object')"
      ]
     },
     "execution_count": 876,
     "metadata": {},
     "output_type": "execute_result"
    }
   ],
   "source": [
    "df.columns"
   ]
  },
  {
   "cell_type": "code",
   "execution_count": 877,
   "metadata": {},
   "outputs": [],
   "source": [
    "def convert_pounds_to_kilograms(value):\n",
    "    return value * 0.453592"
   ]
  },
  {
   "cell_type": "code",
   "execution_count": 878,
   "metadata": {},
   "outputs": [],
   "source": [
    "df['poids_vehicule'] = df['poids_vehicule'].apply(convert_pounds_to_kilograms)"
   ]
  },
  {
   "cell_type": "code",
   "execution_count": 879,
   "metadata": {},
   "outputs": [
    {
     "data": {
      "text/plain": [
       "array([1155.752416, 1280.490216, 1060.044504, 1280.943808, 1137.155144,\n",
       "       1290.015648, 1339.910768, 1399.784912, 1384.816376, 1086.35284 ,\n",
       "       1229.23432 , 1254.18188 , 1385.72356 , 1465.10216 , 1533.14096 ,\n",
       "       1589.83996 ,  674.944896,  850.031408,  865.907128,  850.938592,\n",
       "        965.243776,  892.215464,  902.194488,  993.820072, 1149.85572 ,\n",
       "       1275.047112,  777.003096,  825.083848,  833.248504,  879.96848 ,\n",
       "        887.225952,  911.71992 ,  918.070208, 1014.231712, 1038.272088,\n",
       "       1045.075968, 1075.920224, 1118.10428 , 1040.086456, 1240.120528,\n",
       "       1844.305072, 1791.6884  ,  857.28888 ,  861.8248  ,  864.09276 ,\n",
       "        882.23644 ,  884.5044  , 1079.54896 , 1081.81692 , 1133.98    ,\n",
       "       1093.15672 , 1108.125256, 1099.9606  , 1211.09064 , 1224.6984  ,\n",
       "       1594.37588 , 1700.97    , 1585.30404 , 1710.04184 , 1696.43408 ,\n",
       "       1671.48652 , 1769.0088  , 1685.09428 , 1319.95272 ,  869.989456,\n",
       "        881.782848,  908.998368,  972.95484 , 1075.01304 , 1055.962176,\n",
       "       1285.026136, 1324.942232, 1327.210192, 1072.74508 , 1090.88876 ,\n",
       "       1089.981576,  856.835288,  914.895064,  879.061296,  884.957992,\n",
       "        919.884576,  894.029832,  923.966904,  910.812736, 1054.147808,\n",
       "       1044.168784, 1403.86724 , 1495.039232, 1387.99152 , 1392.981032,\n",
       "       1423.825288, 1369.84784 , 1450.133624, 1555.82056 , 1394.7954  ,\n",
       "       1475.081184, 1490.04972 , 1580.76812 , 1419.74296 , 1278.222256,\n",
       "       1260.078576, 1250.099552, 1270.0576  , 1526.790672, 1169.813768,\n",
       "       1115.83632 , 1205.647536, 1222.43044 , 1227.873544, 1251.006736,\n",
       "       1273.686336, 1291.376424,  929.8636  ,  961.61504 , 1016.04608 ,\n",
       "        993.36648 , 1061.40528 , 1138.51592 , 1038.72568 , 1113.56836 ,\n",
       "       1097.69264 , 1202.0188  ,  900.38012 ,  925.32768 ,  913.98788 ,\n",
       "       1034.18976 , 1410.67112 ,  943.924952,  956.625528, 1031.9218  ,\n",
       "        949.821648,  962.522224,  970.68688 ,  983.841048,  999.716768,\n",
       "       1027.38588 , 1043.2616  , 1152.12368 , 1150.309312, 1157.113192,\n",
       "       1215.172968, 1231.048688, 1349.4362  , 1055.054992, 1124.90816 ,\n",
       "       1094.971088, 1114.929136, 1349.889792, 1368.033472, 1420.196552,\n",
       "       1429.268392, 1025.571512, 1001.984728, 1026.932288, 1003.345504,\n",
       "       1051.879848, 1022.396368, 1007.427832, 1207.008312, 1162.556296,\n",
       "       1320.859904, 1376.198128, 1331.29252 , 1379.826864, 1381.18764 ,\n",
       "       1431.989944, 1339.003584, 1383.002008, 1366.219104, 1459.205464,\n",
       "       1388.898704])"
      ]
     },
     "execution_count": 879,
     "metadata": {},
     "output_type": "execute_result"
    }
   ],
   "source": [
    "df['poids_vehicule'].unique()"
   ]
  },
  {
   "attachments": {},
   "cell_type": "markdown",
   "metadata": {},
   "source": [
    "## nombre_cylindres column - Change values"
   ]
  },
  {
   "cell_type": "code",
   "execution_count": 880,
   "metadata": {},
   "outputs": [
    {
     "data": {
      "text/plain": [
       "four      159\n",
       "six        24\n",
       "five       11\n",
       "eight       5\n",
       "two         4\n",
       "three       1\n",
       "twelve      1\n",
       "Name: nombre_cylindres, dtype: int64"
      ]
     },
     "execution_count": 880,
     "metadata": {},
     "output_type": "execute_result"
    }
   ],
   "source": [
    "df['nombre_cylindres'].value_counts()"
   ]
  },
  {
   "cell_type": "code",
   "execution_count": 881,
   "metadata": {},
   "outputs": [],
   "source": [
    "df['nombre_cylindres'] = df['nombre_cylindres'].replace({'two': 2, 'three': 3, 'four': 4, 'five': 5, 'six': 6, 'eight': 8, 'twelve': 12})"
   ]
  },
  {
   "attachments": {},
   "cell_type": "markdown",
   "metadata": {},
   "source": [
    "## taille_moteur column - Convert values"
   ]
  },
  {
   "cell_type": "code",
   "execution_count": 882,
   "metadata": {},
   "outputs": [],
   "source": [
    "def convert_cubic_inches_to_liters(value):\n",
    "    \"\"\"Convert cubic inches to liters and round to 1 deciimal place\"\"\"\n",
    "    return round(value * 0.0163871, 1)"
   ]
  },
  {
   "cell_type": "code",
   "execution_count": 883,
   "metadata": {},
   "outputs": [
    {
     "data": {
      "text/plain": [
       "array([130, 152, 109, 136, 131, 108, 164, 209,  61,  90,  98, 122, 156,\n",
       "        92,  79, 110, 111, 119, 258, 326,  91,  70,  80, 140, 134, 183,\n",
       "       234, 308, 304,  97, 103, 120, 181, 151, 194, 203, 132, 121, 146,\n",
       "       171, 161, 141, 173, 145])"
      ]
     },
     "execution_count": 883,
     "metadata": {},
     "output_type": "execute_result"
    }
   ],
   "source": [
    "df['taille_moteur'].unique()"
   ]
  },
  {
   "cell_type": "code",
   "execution_count": 884,
   "metadata": {},
   "outputs": [],
   "source": [
    "df['taille_moteur'] = df['taille_moteur'].apply(convert_cubic_inches_to_liters)"
   ]
  },
  {
   "cell_type": "code",
   "execution_count": 885,
   "metadata": {},
   "outputs": [
    {
     "data": {
      "text/plain": [
       "array([2.1, 2.5, 1.8, 2.2, 2.7, 3.4, 1. , 1.5, 1.6, 2. , 2.6, 1.3, 4.2,\n",
       "       5.3, 1.1, 2.3, 3. , 3.8, 5. , 1.7, 3.2, 3.3, 2.4, 2.8])"
      ]
     },
     "execution_count": 885,
     "metadata": {},
     "output_type": "execute_result"
    }
   ],
   "source": [
    "df['taille_moteur'].unique()"
   ]
  },
  {
   "attachments": {},
   "cell_type": "markdown",
   "metadata": {},
   "source": [
    "## Convert mpg to l_100km"
   ]
  },
  {
   "cell_type": "code",
   "execution_count": 886,
   "metadata": {},
   "outputs": [],
   "source": [
    "def convert_mpg_to_l_100km(value):\n",
    "    \"\"\"Convert miles per gallon to liters per 100 kilometers\"\"\"\n",
    "    return round(235.215 / value, 1)"
   ]
  },
  {
   "cell_type": "code",
   "execution_count": 887,
   "metadata": {},
   "outputs": [
    {
     "data": {
      "text/plain": [
       "array([21, 19, 24, 18, 17, 16, 23, 20, 15, 47, 38, 37, 31, 49, 30, 27, 25,\n",
       "       13, 26, 36, 22, 14, 45, 28, 32, 35, 34, 29, 33])"
      ]
     },
     "execution_count": 887,
     "metadata": {},
     "output_type": "execute_result"
    }
   ],
   "source": [
    "df['consommation_ville'].unique()"
   ]
  },
  {
   "cell_type": "code",
   "execution_count": 888,
   "metadata": {},
   "outputs": [
    {
     "data": {
      "text/plain": [
       "array([27, 26, 30, 22, 25, 20, 29, 28, 53, 43, 41, 38, 24, 54, 42, 34, 33,\n",
       "       31, 19, 17, 23, 32, 39, 18, 16, 37, 50, 36, 47, 46])"
      ]
     },
     "execution_count": 888,
     "metadata": {},
     "output_type": "execute_result"
    }
   ],
   "source": [
    "df['consommation_autoroute'].unique()"
   ]
  },
  {
   "cell_type": "code",
   "execution_count": 889,
   "metadata": {},
   "outputs": [],
   "source": [
    "df['consommation_ville'], df['consommation_autoroute'] = df['consommation_ville'].apply(convert_mpg_to_l_100km), df['consommation_autoroute'].apply(convert_mpg_to_l_100km)"
   ]
  },
  {
   "cell_type": "code",
   "execution_count": 890,
   "metadata": {},
   "outputs": [
    {
     "data": {
      "text/plain": [
       "array([11.2, 12.4,  9.8, 13.1, 13.8, 14.7, 10.2, 11.8, 15.7,  5. ,  6.2,\n",
       "        6.4,  7.6,  4.8,  7.8,  8.7,  9.4, 18.1,  9. ,  6.5, 10.7, 16.8,\n",
       "        5.2,  8.4,  7.4,  6.7,  6.9,  8.1,  7.1])"
      ]
     },
     "execution_count": 890,
     "metadata": {},
     "output_type": "execute_result"
    }
   ],
   "source": [
    "df['consommation_ville'].unique()"
   ]
  },
  {
   "cell_type": "code",
   "execution_count": 891,
   "metadata": {},
   "outputs": [
    {
     "data": {
      "text/plain": [
       "array([ 8.7,  9. ,  7.8, 10.7,  9.4, 11.8,  8.1,  8.4,  4.4,  5.5,  5.7,\n",
       "        6.2,  9.8,  5.6,  6.9,  7.1,  7.6, 12.4, 13.8, 10.2,  7.4,  6. ,\n",
       "       13.1, 14.7,  6.4,  4.7,  6.5,  5. ,  5.1])"
      ]
     },
     "execution_count": 891,
     "metadata": {},
     "output_type": "execute_result"
    }
   ],
   "source": [
    "df['consommation_autoroute'].unique()"
   ]
  },
  {
   "cell_type": "code",
   "execution_count": 893,
   "metadata": {},
   "outputs": [
    {
     "data": {
      "text/plain": [
       "Index(['etat_de_route', 'carburant', 'turbo', 'nombre_portes', 'type_vehicule',\n",
       "       'transmission', 'emplacement_moteur', 'empattement', 'longueur_voiture',\n",
       "       'largeur_voiture', 'hauteur_voiture', 'poids_vehicule', 'type_moteur',\n",
       "       'nombre_cylindres', 'taille_moteur', 'systeme_carburant',\n",
       "       'taux_alésage', 'course', 'taux_compression', 'chevaux', 'tour_moteur',\n",
       "       'consommation_ville', 'consommation_autoroute', 'prix', 'marque',\n",
       "       'modele'],\n",
       "      dtype='object')"
      ]
     },
     "execution_count": 893,
     "metadata": {},
     "output_type": "execute_result"
    }
   ],
   "source": [
    "df.columns"
   ]
  },
  {
   "attachments": {},
   "cell_type": "markdown",
   "metadata": {},
   "source": [
    "# Part II : Data Analyze"
   ]
  },
  {
   "attachments": {},
   "cell_type": "markdown",
   "metadata": {},
   "source": [
    "## Histogram"
   ]
  },
  {
   "cell_type": "code",
   "execution_count": 894,
   "metadata": {},
   "outputs": [
    {
     "data": {
      "image/png": "[encoded data removed]",
      "text/plain": [
       "<Figure size 640x480 with 1 Axes>"
      ]
     },
     "metadata": {},
     "output_type": "display_data"
    }
   ],
   "source": [
    "sns.histplot(df['prix'], kde=True)\n",
    "plt.xlabel('Prix')\n",
    "plt.ylabel('Nombre de voitures')\n",
    "plt.title('Distribution des prix')\n",
    "plt.show()"
   ]
  }
 ],
 "metadata": {
  "kernelspec": {
   "display_name": "Pandas",
   "language": "python",
   "name": "python3"
  },
  "language_info": {
   "codemirror_mode": {
    "name": "ipython",
    "version": 3
   },
   "file_extension": ".py",
   "mimetype": "text/x-python",
   "name": "python",
   "nbconvert_exporter": "python",
   "pygments_lexer": "ipython3",
   "version": "3.10.9"
  },
  "orig_nbformat": 4
 },
 "nbformat": 4,
 "nbformat_minor": 2
}
